{
 "cells": [
  {
   "cell_type": "markdown",
   "id": "73b5cda5",
   "metadata": {},
   "source": [
    "\n",
    "# The Complete Python Bootcamp From Zero to Hero in Python\n"
   ]
  },
  {
   "cell_type": "markdown",
   "id": "14e610dd",
   "metadata": {},
   "source": [
    "## Milestone 1\n",
    "## Tic Tac Toe"
   ]
  },
  {
   "cell_type": "code",
   "execution_count": 1,
   "id": "f175f2cb",
   "metadata": {},
   "outputs": [
    {
     "name": "stdout",
     "output_type": "stream",
     "text": [
      "Welcome to 'Tic Tac Toe' :) \n",
      "\n",
      "Please select X or O: x\n",
      "Player1 : X\n",
      "Player2 : O\n"
     ]
    }
   ],
   "source": [
    "def user_selection(select):\n",
    "    while select not in [\"X\", \"O\"]:\n",
    "        print(\"Please Enter a Valid Input!!\")\n",
    "        select = input(\"Please select X or O: \").upper()\n",
    "\n",
    "    player1 = \"\"\n",
    "    player2 = \"\"\n",
    "\n",
    "    if select == \"X\":\n",
    "        player1 = \"X\"\n",
    "        player2 = \"O\"\n",
    "\n",
    "    elif select == \"O\":\n",
    "        player1 = \"O\"\n",
    "        player2 = \"X\"\n",
    "\n",
    "    return player1, player2\n",
    "\n",
    "print(\"Welcome to 'Tic Tac Toe' :) \")\n",
    "print()\n",
    "select = input(\"Please select X or O: \").upper()\n",
    "player1, player2 = user_selection(select)\n",
    "\n",
    "print(\"Player1 : {}\".format(player1))\n",
    "print(\"Player2 : {}\".format(player2))\n"
   ]
  },
  {
   "cell_type": "code",
   "execution_count": 2,
   "id": "31c80a52",
   "metadata": {},
   "outputs": [
    {
     "name": "stdout",
     "output_type": "stream",
     "text": [
      "Enter a number in range 1 to 9 : 4\n",
      "[0, 1, 2, 3, 'X', 5, 6, 7, 8, 9]\n",
      "|-----|-----|-----|\n",
      "| '7' | '8' | '9' |\n",
      "|-----|-----|-----|\n",
      "| 'X' | '5' | '6' |\n",
      "|-----|-----|-----|\n",
      "| '1' | '2' | '3' |\n",
      "|-----|-----|-----|\n",
      "Enter a number in range 1 to 9 : 5\n",
      "[0, 1, 2, 3, 'X', 'O', 6, 7, 8, 9]\n",
      "|-----|-----|-----|\n",
      "| '7' | '8' | '9' |\n",
      "|-----|-----|-----|\n",
      "| 'X' | 'O' | '6' |\n",
      "|-----|-----|-----|\n",
      "| '1' | '2' | '3' |\n",
      "|-----|-----|-----|\n",
      "Enter a number in range 1 to 9 : 1\n",
      "[0, 'X', 2, 3, 'X', 'O', 6, 7, 8, 9]\n",
      "|-----|-----|-----|\n",
      "| '7' | '8' | '9' |\n",
      "|-----|-----|-----|\n",
      "| 'X' | 'O' | '6' |\n",
      "|-----|-----|-----|\n",
      "| 'X' | '2' | '3' |\n",
      "|-----|-----|-----|\n",
      "Enter a number in range 1 to 9 : 2\n",
      "[0, 'X', 'O', 3, 'X', 'O', 6, 7, 8, 9]\n",
      "|-----|-----|-----|\n",
      "| '7' | '8' | '9' |\n",
      "|-----|-----|-----|\n",
      "| 'X' | 'O' | '6' |\n",
      "|-----|-----|-----|\n",
      "| 'X' | 'O' | '3' |\n",
      "|-----|-----|-----|\n",
      "Enter a number in range 1 to 9 : 7\n",
      "[0, 'X', 'O', 3, 'X', 'O', 6, 'X', 8, 9]\n",
      "|-----|-----|-----|\n",
      "| 'X' | '8' | '9' |\n",
      "|-----|-----|-----|\n",
      "| 'X' | 'O' | '6' |\n",
      "|-----|-----|-----|\n",
      "| 'X' | 'O' | '3' |\n",
      "|-----|-----|-----|\n",
      "X Won\n",
      "\n",
      "Do you want to play one more match?? Yes or No: \n",
      "no\n"
     ]
    }
   ],
   "source": [
    "def user_input():\n",
    "    # possible_patterns = [[1,2,3], [4,5,6], [7,8,9], [1,5,9], [1,4,7], [2,5,8], [3,5,7], [3,6,9]]\n",
    "    win = \"Yes\"\n",
    "    select1 = 1\n",
    "    ttt = [0,1,2,3,4,5,6,7,8,9]\n",
    "    while win == \"Yes\":\n",
    "        num = int(input(\"Enter a number in range 1 to 9 : \"))\n",
    "        while type(num) != int:\n",
    "            print(\"Enter a valid Number!!\")\n",
    "            # num = int(input(\"{} enter a number in range 1 to 9 : \".format(\"Player\")))\n",
    "\n",
    "        if select == \"X\":\n",
    "            if select1%2 != 0:\n",
    "                ttt[num] = \"X\"\n",
    "            else:\n",
    "                ttt[num] = \"O\"\n",
    "        else:\n",
    "            if select1%2 != 0:\n",
    "                ttt[num] = \"O\"\n",
    "            else:\n",
    "                ttt[num] = \"X\"\n",
    "\n",
    "        print(ttt)\n",
    "        print(\"|-----|-----|-----|\")\n",
    "        print(\"| '{}' | '{}' | '{}' |\".format(ttt[7], ttt[8], ttt[9]))\n",
    "        print(\"|-----|-----|-----|\")\n",
    "        print(\"| '{}' | '{}' | '{}' |\".format(ttt[4], ttt[5], ttt[6]))\n",
    "        print(\"|-----|-----|-----|\")\n",
    "        print(\"| '{}' | '{}' | '{}' |\".format(ttt[1], ttt[2], ttt[3]))\n",
    "        print(\"|-----|-----|-----|\")\n",
    "\n",
    "        if (ttt[1] == ttt[2] == ttt[3]) or (ttt[4] == ttt[5] == ttt[6]) or (ttt[7] == ttt[8] == ttt[9]) or (ttt[1] == ttt[5] == ttt[9]) or (ttt[1] == ttt[4] == ttt[7]) or (ttt[2] == ttt[5] == ttt[8]) or (ttt[3] == ttt[5] == ttt[7]) or (ttt[3] == ttt[6] == ttt[9]):\n",
    "            if select == \"X\":\n",
    "                if select1%2 != 0:\n",
    "                    print(\"X Won\")\n",
    "                else:\n",
    "                    print(\"Y Won\")\n",
    "            else:\n",
    "                if select1%2 != 0:\n",
    "                    print(\"Y Won\")\n",
    "                else:\n",
    "                    print(\"X Won\")\n",
    "            print()\n",
    "            print(\"Do you want to play one more match?? Yes or No: \")\n",
    "            win = input().capitalize()\n",
    "            if win == \"Yes\":\n",
    "                win = \"Yes\"\n",
    "            else:\n",
    "                print(\"Byeee :(\")\n",
    "                break\n",
    "\n",
    "        select1 += 1\n",
    "\n",
    "user_input()"
   ]
  },
  {
   "cell_type": "code",
   "execution_count": null,
   "id": "c8d11617",
   "metadata": {},
   "outputs": [],
   "source": []
  }
 ],
 "metadata": {
  "kernelspec": {
   "display_name": "Python 3 (ipykernel)",
   "language": "python",
   "name": "python3"
  },
  "language_info": {
   "codemirror_mode": {
    "name": "ipython",
    "version": 3
   },
   "file_extension": ".py",
   "mimetype": "text/x-python",
   "name": "python",
   "nbconvert_exporter": "python",
   "pygments_lexer": "ipython3",
   "version": "3.10.9"
  }
 },
 "nbformat": 4,
 "nbformat_minor": 5
}
